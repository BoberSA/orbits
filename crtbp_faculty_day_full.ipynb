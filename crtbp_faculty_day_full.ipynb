{
 "cells": [
  {
   "cell_type": "markdown",
   "metadata": {},
   "source": [
    "<img src=\"logo_hse_white_invert.png\" alt=\"HSE logo\"></img>\n",
    "## <div align='right' style='color:#1b75bc'>Московский Институт Электроники и Математики НИУ ВШЭ<br><br>Факультетский день МИЭМ НИУ ВШЭ</div>"
   ]
  },
  {
   "cell_type": "markdown",
   "metadata": {},
   "source": [
    "<div align='right'><i>Автор: Бобер Станислав Алексеевич,\n",
    "<br>\n",
    "научный сотрудник лаборатории Имитационного моделирования\n",
    "<br>\n",
    "e-mail: [sbober@hse.ru](sbober@hse.ru), [stas.bober@gmail.com](stas.bober@gmail.com)</i></div>"
   ]
  },
  {
   "cell_type": "markdown",
   "metadata": {
    "deletable": true,
    "editable": true
   },
   "source": [
    "# <center>Гало-орбита вокруг точки Лагранжа $L_2$</center>"
   ]
  },
  {
   "cell_type": "markdown",
   "metadata": {
    "deletable": true,
    "editable": true
   },
   "source": [
    "**Точки Лагранжа** * - точки в системе из двух массивных тел, в которых третье тело с пренебрежимо малой массой, не испытывающее воздействие никаких других сил, кроме гравитационных, со стороны двух первых тел, может оставаться неподвижным относительно этих тел.*"
   ]
  },
  {
   "cell_type": "markdown",
   "metadata": {
    "deletable": true,
    "editable": true
   },
   "source": [
    "Расположение всех точек $L_1, ... ,L_5$ Лагранжа в системе Солнце-Земля\n",
    "![](lagrange_points1.jpg)"
   ]
  },
  {
   "cell_type": "markdown",
   "metadata": {
    "deletable": true,
    "editable": true
   },
   "source": [
    "Сегодня мы поближе познакомимся с точкой $L_2$, которая расположена в 1.5 млн. км. от Земли\n",
    "![](l2_position_1.jpg)"
   ]
  },
  {
   "cell_type": "markdown",
   "metadata": {
    "deletable": true,
    "editable": true
   },
   "source": [
    "В этом задании мы рассчитаем гало-орбиту вокруг точки $L_2$ - периодическую орбиту, которая выглядит как на рисунке ниже. Голубым цветом орбита изображена во вращающейся системе координат, а оранжевым - в инерциальной.\n",
    "![](jwst_halo_sel2.jpg)"
   ]
  },
  {
   "cell_type": "markdown",
   "metadata": {
    "deletable": true,
    "editable": true
   },
   "source": [
    "Будем работать во вращающейся системе координат, изображенной ниже, т.к. в ней проще работать с гало-орбитами.\n",
    "![](coordinate_system.png)"
   ]
  },
  {
   "cell_type": "markdown",
   "metadata": {
    "deletable": true,
    "editable": true
   },
   "source": [
    "## Импорт необходимых модулей"
   ]
  },
  {
   "cell_type": "code",
   "execution_count": null,
   "metadata": {
    "collapsed": true,
    "deletable": true,
    "editable": true
   },
   "outputs": [],
   "source": [
    "import numpy as np\n",
    "import matplotlib.pyplot as plt\n",
    "%matplotlib inline"
   ]
  },
  {
   "cell_type": "code",
   "execution_count": null,
   "metadata": {
    "collapsed": false,
    "deletable": true,
    "editable": true,
    "scrolled": true
   },
   "outputs": [],
   "source": [
    "from crtbp_ode import *\n",
    "from crtbp_prop import *\n",
    "from find_vel import *\n",
    "from lagrange_pts import *\n",
    "from special_plot import *\n",
    "from stop_funcs import *"
   ]
  },
  {
   "cell_type": "markdown",
   "metadata": {
    "deletable": true,
    "editable": true
   },
   "source": [
    "<H2><font style='color:#1b75bc'>Задание #0: константы</font></H2>"
   ]
  },
  {
   "cell_type": "markdown",
   "metadata": {
    "deletable": true,
    "editable": true
   },
   "source": [
    "### Найти и ввести константы: масса Солнца, масса Земли, расстояние между Солнцем и Землей"
   ]
  },
  {
   "cell_type": "code",
   "execution_count": null,
   "metadata": {
    "collapsed": false,
    "deletable": true,
    "editable": true
   },
   "outputs": [],
   "source": [
    "Sm =  # Масса Солнца\n",
    "Em =  # Масса Земли\n",
    "ER =  # расстояние между Солнцем и Землей"
   ]
  },
  {
   "cell_type": "code",
   "execution_count": null,
   "metadata": {
    "collapsed": false,
    "deletable": true,
    "editable": true
   },
   "outputs": [],
   "source": [
    "# коэффициент mu, характеризующий задачу трех тел\n",
    "mu1 = Sm / (Sm + Em)\n",
    "mu1"
   ]
  },
  {
   "cell_type": "code",
   "execution_count": null,
   "metadata": {
    "collapsed": false,
    "deletable": true,
    "editable": true
   },
   "outputs": [],
   "source": [
    "# Положение точки Лагранжа L2\n",
    "L2 = lagrange2(mu1)\n",
    "print('Расстояние от Земли до точки L2: %f км' % ((L2 - mu1) * ER))"
   ]
  },
  {
   "cell_type": "markdown",
   "metadata": {
    "deletable": true,
    "editable": true
   },
   "source": [
    "<H2><font style='color:#1b75bc'>Алгоритм поиска начальной скорости</font></H2>"
   ]
  },
  {
   "cell_type": "markdown",
   "metadata": {},
   "source": [
    "Космический аппарат в начале находится в плоскости $XOZ$ и движется в направлении оси Y. Начальным координатам $X_0$ и $Z_0$ соответствует единственное значение скорости КА $Vy_0$, соответствующее движению по ограниченной орбите. В случае, если скорость КА ниже $Vy_0$, то КА через некоторое время достигнет левой ограничивающей плоскости $X = X_{min}$. В противном случае - правой, $X = X_{max}$.\n",
    "\n",
    "На основе этого утверждения и строится алгоритм поиска начальной скорости."
   ]
  },
  {
   "cell_type": "markdown",
   "metadata": {
    "deletable": true,
    "editable": true
   },
   "source": [
    "![](vy0_algorithm.png)"
   ]
  },
  {
   "cell_type": "code",
   "execution_count": null,
   "metadata": {
    "collapsed": true,
    "deletable": true,
    "editable": true
   },
   "outputs": [],
   "source": [
    "X0km = L2*ER - 453098\n",
    "Z0km = 500000\n",
    "DXkm = 100000\n",
    "DX2km = 500000\n",
    "\n",
    "beta = 90\n",
    "leftp = mu1 + DXkm / ER\n",
    "rightp = L2 + DX2km / ER\n",
    "topp = 1.0"
   ]
  },
  {
   "cell_type": "markdown",
   "metadata": {
    "deletable": true,
    "editable": true
   },
   "source": [
    "<H2><font style='color:#1b75bc'>Задание #1: гало-орбита</font></H2>"
   ]
  },
  {
   "cell_type": "markdown",
   "metadata": {},
   "source": [
    "<H3>Подобрать начальную скорость Vy0 так, чтобы космический аппарат выполнил не менее 4 оборотов вокруг точки $L_2$</H3>"
   ]
  },
  {
   "cell_type": "code",
   "execution_count": null,
   "metadata": {
    "collapsed": false,
    "deletable": true,
    "editable": true
   },
   "outputs": [],
   "source": [
    "Vy0 = 0\n",
    "y0 = np.array([X0km/ER, 0, Z0km/ER, 0, Vy0, 0])\n",
    "f = prop2Planes(mu1, y0, [leftp, rightp, topp])\n",
    "arr = propCrtbp(mu1, y0, [0, 1000], stopf=stop3Planes, planes=[leftp, rightp, topp])\n",
    "fig, ax = plt.subplots(1, 1)\n",
    "fig.set_size_inches(15, 10)\n",
    "ax.plot(arr[:,0]*ER, arr[:,1]*ER, 'r' if f else 'b')\n",
    "ax.plot([mu1*ER, L2*ER], [0, 0], '*')\n",
    "ax.text(mu1*ER, 0, '  $Земля$', fontsize=15)\n",
    "ax.text(L2*ER, 0, '  $L_2$', fontsize=15)\n",
    "ax.vlines([leftp*ER, rightp*ER], -1000000, 1000000, linestyles='dashed')\n",
    "ax.set_xlabel('$X$, км')\n",
    "ax.set_ylabel('$Y$, км')\n",
    "ax.set_title('Траектория космического аппарата')\n",
    "print('Примерное количество оборотов:', '%.2f' % (arr[-1,6]/np.pi))"
   ]
  },
  {
   "cell_type": "markdown",
   "metadata": {
    "deletable": true,
    "editable": true
   },
   "source": [
    "### Отобразить все проекции полученной траектории"
   ]
  },
  {
   "cell_type": "code",
   "execution_count": null,
   "metadata": {
    "collapsed": false,
    "deletable": true,
    "editable": true
   },
   "outputs": [],
   "source": [
    "_ = plot3Proj(arr, scale=ER, dim=', km', plot_param={'linewidth':0.5})"
   ]
  },
  {
   "cell_type": "markdown",
   "metadata": {
    "collapsed": true,
    "deletable": true,
    "editable": true
   },
   "source": [
    "---"
   ]
  },
  {
   "cell_type": "markdown",
   "metadata": {},
   "source": [
    "<H1><center>В поисках других видов орбит вокруг точки Лагранжа $L_2$</center></H1>"
   ]
  },
  {
   "cell_type": "markdown",
   "metadata": {
    "deletable": true,
    "editable": true
   },
   "source": [
    "В окрестности точки $L_2$ существуют различные виды (семейства) орбит, вот некоторые из них:\n",
    "![](orbit_types_sel2.png)"
   ]
  },
  {
   "cell_type": "markdown",
   "metadata": {
    "deletable": true,
    "editable": true
   },
   "source": [
    "* $(1)$ - долгопериодические орбиты (резонансные)\n",
    "* $(2), (3)$ - квазигало-орбиты\n",
    "* $(4)$ - **гало-орбиты**\n",
    "* $(5), (6)$ - квазигало-орбиты\n",
    "* $(7), (8), (9)$ - орбиты Лиссажу\n",
    "* $(10)$ - вертикальная орбита Ляпунова\n",
    "* и др."
   ]
  },
  {
   "cell_type": "markdown",
   "metadata": {
    "deletable": true,
    "editable": true
   },
   "source": [
    "## Как найти орбиту определенного вида?"
   ]
  },
  {
   "cell_type": "markdown",
   "metadata": {
    "deletable": true,
    "editable": true
   },
   "source": [
    "На этой карте в достаточно большой окрестности точки $L_2$ изображены области, соответствующие орбитам различных видов:\n",
    "![](orbit_map_sel2.png)"
   ]
  },
  {
   "cell_type": "markdown",
   "metadata": {
    "deletable": true,
    "editable": true
   },
   "source": [
    "* $H$ - гало-орбиты\n",
    "* $QH$ - квазигало-орбиты\n",
    "* $L$ - орбиты Лиссажу\n",
    "* $Ly$ - вертикальные орбиты Ляпунова\n",
    "* $r5-r11$ - резонансные долгопериодические орбиты"
   ]
  },
  {
   "cell_type": "markdown",
   "metadata": {
    "deletable": true,
    "editable": true
   },
   "source": [
    "## Система координат"
   ]
  },
  {
   "cell_type": "markdown",
   "metadata": {
    "deletable": true,
    "editable": true
   },
   "source": [
    "Также, как и ранее, будем работать во вращающейся системе координат, изображенной ниже.\n",
    "![](coordinate_system.png)"
   ]
  },
  {
   "cell_type": "code",
   "execution_count": null,
   "metadata": {
    "collapsed": true,
    "deletable": true,
    "editable": true
   },
   "outputs": [],
   "source": [
    "Z0km = 500000\n",
    "DXkm = 100000\n",
    "DX2km = 500000\n",
    "\n",
    "beta = 90\n",
    "leftp = mu1 + DXkm / ER\n",
    "rightp = L2 + DX2km / ER\n",
    "topp = 1.0"
   ]
  },
  {
   "cell_type": "markdown",
   "metadata": {
    "deletable": true,
    "editable": true
   },
   "source": [
    "<H2><font style='color:#1b75bc'>Задание #2: гало-орбита</font></H2>"
   ]
  },
  {
   "cell_type": "markdown",
   "metadata": {
    "deletable": true,
    "editable": true
   },
   "source": [
    "### 2.1. Найти гало-орбиту для начального положения космического аппарата $Z_0$ = 500000 км"
   ]
  },
  {
   "cell_type": "code",
   "execution_count": null,
   "metadata": {
    "collapsed": false,
    "deletable": true,
    "editable": true,
    "scrolled": false
   },
   "outputs": [],
   "source": [
    "Z0km = 500000\n",
    "X0km = -453098\n",
    "N = 10\n",
    "\n",
    "y0 = np.array([L2+X0km/ER, 0, Z0km/ER, 0, 0, 0])\n",
    "arr0 = propNRevsPlanes(mu1, y0, 0, [leftp, rightp, 1.0], N=N, dT=np.pi, rtol=1e-5, nsteps=10000)\n",
    "_ = plot3Proj(arr0, scale=ER, dim=', km', plot_param={'linewidth':0.5})"
   ]
  },
  {
   "cell_type": "markdown",
   "metadata": {
    "deletable": true,
    "editable": true
   },
   "source": [
    "### 2.2. Найти гало-орбиту для начального положения космического аппарата $Z_0$ = 250000 км"
   ]
  },
  {
   "cell_type": "code",
   "execution_count": null,
   "metadata": {
    "collapsed": false,
    "deletable": true,
    "editable": true
   },
   "outputs": [],
   "source": [
    "Z0km = 250000\n",
    "X0km = \n",
    "N = 10\n",
    "\n",
    "y0 = np.array([L2+X0km/ER, 0, Z0km/ER, 0, 0, 0])\n",
    "arr1 = propNRevsPlanes(mu1, y0, 0, [leftp, rightp, 1.0], N=N, dT=np.pi, rtol=1e-5, nsteps=10000)\n",
    "_ = plot3Proj(arr1, scale=ER, dim=', km', plot_param={'linewidth':0.5})"
   ]
  },
  {
   "cell_type": "markdown",
   "metadata": {
    "deletable": true,
    "editable": true
   },
   "source": [
    "### 2.3. Найти гало-орбиту для начального положения космического аппарата $Z_0$ = 750000 км"
   ]
  },
  {
   "cell_type": "code",
   "execution_count": null,
   "metadata": {
    "collapsed": false,
    "deletable": true,
    "editable": true
   },
   "outputs": [],
   "source": [
    "Z0km = 750000\n",
    "X0km = \n",
    "N = 10\n",
    "\n",
    "y0 = np.array([L2+X0km/ER, 0, Z0km/ER, 0, 0, 0])\n",
    "arr2 = propNRevsPlanes(mu1, y0, 0, [leftp, rightp, 1.0], N=N, dT=np.pi, rtol=1e-5, nsteps=10000)\n",
    "_ = plot3Proj(arr2, scale=ER, dim=', km', plot_param={'linewidth':0.5})"
   ]
  },
  {
   "cell_type": "markdown",
   "metadata": {
    "deletable": true,
    "editable": true
   },
   "source": [
    "### Отобразить все три полученные гало-орбиты"
   ]
  },
  {
   "cell_type": "code",
   "execution_count": null,
   "metadata": {
    "collapsed": false,
    "deletable": true,
    "editable": true,
    "scrolled": true
   },
   "outputs": [],
   "source": [
    "_ = plot3Proj_adv([arr0, arr1, arr2], scale=ER, dim=', km', plot_param={'linewidth':0.5})"
   ]
  },
  {
   "cell_type": "markdown",
   "metadata": {
    "deletable": true,
    "editable": true
   },
   "source": [
    "<H2><font style='color:#1b75bc'>Задание #3: квазигало-орбита</font></H2>"
   ]
  },
  {
   "cell_type": "markdown",
   "metadata": {
    "deletable": true,
    "editable": true
   },
   "source": [
    "### Ориентируясь на карту, подобрать начальную координату X0km так, чтобы получить квазигало-орбиту. Отобразить 20 оборотов космического аппарата на орбите."
   ]
  },
  {
   "cell_type": "code",
   "execution_count": null,
   "metadata": {
    "collapsed": false,
    "deletable": true,
    "editable": true,
    "scrolled": false
   },
   "outputs": [],
   "source": [
    "Z0km = 500000\n",
    "X0km = \n",
    "N = 10\n",
    "\n",
    "y0 = np.array([L2+X0km/ER, 0, Z0km/ER, 0, 0, 0])\n",
    "arr1 = propNRevsPlanes(mu1, y0, 0, [leftp, rightp, 1.0], N=N, dT=np.pi, rtol=1e-5, nsteps=10000)\n",
    "_ = plot3Proj(arr1, scale=ER, dim=', km', plot_param={'linewidth':0.5})"
   ]
  },
  {
   "cell_type": "markdown",
   "metadata": {
    "deletable": true,
    "editable": true
   },
   "source": [
    "<H2><font style='color:#1b75bc'>Задание #4: орбита Лиссажу</font></H2>"
   ]
  },
  {
   "cell_type": "markdown",
   "metadata": {
    "deletable": true,
    "editable": true
   },
   "source": [
    "### Ориентируясь на карту, подобрать начальную координату X0km так, чтобы получить орбиту Лиссажу. Отобразить 30 оборотов космического аппарата на орбите."
   ]
  },
  {
   "cell_type": "code",
   "execution_count": null,
   "metadata": {
    "collapsed": false,
    "deletable": true,
    "editable": true
   },
   "outputs": [],
   "source": [
    "Z0km = 500000\n",
    "X0km = \n",
    "N = 10\n",
    "\n",
    "y0 = np.array([L2+X0km/ER, 0, Z0km/ER, 0, 0, 0])\n",
    "arr2 = propNRevsPlanes(mu1, y0, 0, [leftp, rightp, 1.0], N=N, dT=np.pi, rtol=1e-5, nsteps=10000)\n",
    "_ = plot3Proj(arr2, scale=ER, dim=', km', plot_param={'linewidth':0.5})"
   ]
  },
  {
   "cell_type": "markdown",
   "metadata": {
    "deletable": true,
    "editable": true
   },
   "source": [
    "<H2><font style='color:#1b75bc'>Задание #5*: вертикальная орбита Ляпунова</font></H2>"
   ]
  },
  {
   "cell_type": "markdown",
   "metadata": {
    "deletable": true,
    "editable": true
   },
   "source": [
    "### Ориентируясь на карту, подобрать начальную координату X0km так, чтобы получить вертикальную орбиту Ляпунова. Отобразить 20 оборотов космического аппарата на орбите."
   ]
  },
  {
   "cell_type": "code",
   "execution_count": null,
   "metadata": {
    "collapsed": false,
    "deletable": true,
    "editable": true
   },
   "outputs": [],
   "source": [
    "Z0km = 500000\n",
    "X0km = \n",
    "N = 10\n",
    "\n",
    "y0 = np.array([L2+X0km/ER, 0, Z0km/ER, 0, 0, 0])\n",
    "arr3 = propNRevsPlanes(mu1, y0, 0, [leftp, rightp, 1.0], N=N, dT=np.pi, rtol=1e-5, nsteps=10000)\n",
    "_ = plot3Proj(arr3, scale=ER, dim=', km', plot_param={'linewidth':0.5})"
   ]
  },
  {
   "cell_type": "markdown",
   "metadata": {
    "collapsed": true,
    "deletable": true,
    "editable": true
   },
   "source": [
    "---"
   ]
  }
 ],
 "metadata": {
  "kernelspec": {
   "display_name": "Python 3",
   "language": "python",
   "name": "python3"
  },
  "language_info": {
   "codemirror_mode": {
    "name": "ipython",
    "version": 3
   },
   "file_extension": ".py",
   "mimetype": "text/x-python",
   "name": "python",
   "nbconvert_exporter": "python",
   "pygments_lexer": "ipython3",
   "version": "3.5.3"
  }
 },
 "nbformat": 4,
 "nbformat_minor": 2
}
